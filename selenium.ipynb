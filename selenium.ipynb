{
 "cells": [
  {
   "cell_type": "code",
   "execution_count": 44,
   "metadata": {},
   "outputs": [],
   "source": [
    "from selenium import webdriver\n",
    "from selenium.webdriver.common.keys import Keys\n",
    "from bs4 import BeautifulSoup as bs\n",
    "import time\n",
    "\n",
    "driver = webdriver.Firefox()\n",
    "driver.get('https://www.instagram.com')\n",
    "driver.set_window_size(500,800)"
   ]
  },
  {
   "cell_type": "code",
   "execution_count": 45,
   "metadata": {},
   "outputs": [],
   "source": [
    "import os\n",
    "insta_username = os.getenv(\"IG_USER\")  # <- enter username here\n",
    "insta_password = os.getenv(\"IG_PW\")  # <- enter password here"
   ]
  },
  {
   "cell_type": "code",
   "execution_count": 46,
   "metadata": {},
   "outputs": [],
   "source": [
    "userinput = driver.find_element_by_xpath('/html/body/div[1]/section/main/article/div[2]/div[1]/div/form/div[2]/div/label/input')\n",
    "passinput = driver.find_element_by_xpath('/html/body/div[1]/section/main/article/div[2]/div[1]/div/form/div[3]/div/label/input')"
   ]
  },
  {
   "cell_type": "code",
   "execution_count": 47,
   "metadata": {},
   "outputs": [],
   "source": [
    "userinput.send_keys(insta_username)\n",
    "passinput.send_keys(insta_password)\n",
    "passinput.send_keys(Keys.RETURN)"
   ]
  },
  {
   "cell_type": "code",
   "execution_count": 55,
   "metadata": {},
   "outputs": [],
   "source": [
    "#儲存你的登入資料？\n",
    "#開啟通知？\n",
    "#進入主頁\n",
    "following = 252\n",
    "#點追蹤中\n",
    "\n",
    "# --- pagedown ---\n",
    "pgdown_elem = driver.find_element_by_css_selector('.PZuss button')\n",
    "following_list = driver.find_elements_by_css_selector('.jSC57 li')\n",
    "\n",
    "fail_safe = 0\n",
    "while len(following_list) < following-2:\n",
    "    pgdown_elem.send_keys(Keys.PAGE_DOWN)\n",
    "    time.sleep(1)\n",
    "    \n",
    "    following_list = driver.find_elements_by_css_selector('.jSC57 li')\n",
    "    print(fail_safe, len(following_list))\n",
    "    fail_safe +=1\n",
    "    if fail_safe > 40:\n",
    "        break\n",
    "    \n",
    "# --- pagedown-end ---\n"
   ]
  },
  {
   "cell_type": "code",
   "execution_count": 56,
   "metadata": {},
   "outputs": [],
   "source": [
    "soup = bs(driver.page_source, \"html.parser\")\n"
   ]
  },
  {
   "cell_type": "code",
   "execution_count": 77,
   "metadata": {},
   "outputs": [],
   "source": [
    "# get all followings\n",
    "following_list = soup.select('.jSC57 li')\n",
    "following_users = []\n",
    "for i in range(len(following_list)):\n",
    "    links = following_list[i].select('a')\n",
    "    name = links[0].attrs['href']\n",
    "    assert name[0] == '/' and name[-1] == '/'\n",
    "    name = name[1:-1]\n",
    "    following_users.append(name)\n",
    "    \n"
   ]
  },
  {
   "cell_type": "code",
   "execution_count": 79,
   "metadata": {},
   "outputs": [],
   "source": [
    "with open('users.txt', 'w') as f:\n",
    "    for name in following_users:\n",
    "        f.write(name+'\\n')"
   ]
  },
  {
   "cell_type": "code",
   "execution_count": 86,
   "metadata": {},
   "outputs": [
    {
     "name": "stdout",
     "output_type": "stream",
     "text": [
      "252\n"
     ]
    },
    {
     "data": {
      "text/plain": [
       "'ebb.sanchez'"
      ]
     },
     "execution_count": 86,
     "metadata": {},
     "output_type": "execute_result"
    }
   ],
   "source": [
    "saved=[]\n",
    "with open('users.txt', 'r') as f:\n",
    "    for i in f.readlines():\n",
    "        saved.append(i[:-1])\n",
    "print(len(saved))\n",
    "saved[-1]"
   ]
  },
  {
   "cell_type": "code",
   "execution_count": 84,
   "metadata": {},
   "outputs": [
    {
     "data": {
      "text/plain": [
       "'ebb.sanchez\\n'"
      ]
     },
     "execution_count": 84,
     "metadata": {},
     "output_type": "execute_result"
    }
   ],
   "source": [
    "saved[-1]"
   ]
  },
  {
   "cell_type": "code",
   "execution_count": null,
   "metadata": {},
   "outputs": [],
   "source": []
  }
 ],
 "metadata": {
  "kernelspec": {
   "display_name": "Python 3",
   "language": "python",
   "name": "python3"
  },
  "language_info": {
   "codemirror_mode": {
    "name": "ipython",
    "version": 3
   },
   "file_extension": ".py",
   "mimetype": "text/x-python",
   "name": "python",
   "nbconvert_exporter": "python",
   "pygments_lexer": "ipython3",
   "version": "3.8.1"
  }
 },
 "nbformat": 4,
 "nbformat_minor": 4
}
